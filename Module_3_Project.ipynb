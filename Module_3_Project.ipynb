{
 "cells": [
  {
   "cell_type": "raw",
   "id": "6a321f6f-1846-443c-9459-9f485500b368",
   "metadata": {},
   "source": [
    "import pandas as pd\n",
    "import requests\n",
    "from bs4 import BeautifulSoup"
   ]
  },
  {
   "cell_type": "code",
   "execution_count": 36,
   "id": "153e185a-eec0-4134-88ee-8e934ebf6beb",
   "metadata": {},
   "outputs": [],
   "source": [
    "response = requests.get('https://btech-data-analytics.github.io/bridgerland-technical-college/bookstore.html').text"
   ]
  },
  {
   "cell_type": "code",
   "execution_count": 37,
   "id": "5206b75b-8649-4068-98da-52aacc14835c",
   "metadata": {},
   "outputs": [
    {
     "data": {
      "text/plain": [
       "'<html lang=\"en\">\\n<head>\\n    <meta charset=\"UTF-8\">\\n    <meta name=\"viewport\" content=\"width=device-width, initial-scale=1.0\">\\n    <link rel=\"stylesheet\" href=\"https://www.w3schools.com/w3css/4/w3.css\">\\n    <link rel=\"stylesheet\" href=\"style.css\">\\n    <title>Bob\\'s Bookstore</title>\\n</head>\\n<body>\\n    <div class=\"w3-bar w3-blue-grey w3-large\" style=\"padding: 0rem 8rem 0rem 8rem\">\\n        <a href=\"/bridgerland-technical-college/home.html\"><img src=\"bobs_bookstore_white.png\" class=\"\" style=\"max-height: 2.8rem;\"></a>\\n        <a href=\"/bridgerland-technical-college/bookstore.html\" class=\"w3-bar-item w3-button w3-right\">Store</a>\\n        <a href=\"/bridgerland-technical-college/contact.html\" class=\"w3-bar-item w3-button w3-right\">Contact</a>\\n        <a href=\"/bridgerland-technical-college/about.html\" class=\"w3-bar-item w3-button w3-right\">About</a>\\n      </div>\\n\\n      <div style=\"max-width: 1000px;margin: auto;\" class=\"w3-container\">\\n        <h1>Books for Sale</h1>\\n        <table class=\"w3-table-all w3-hoverable w3-small\">\\n            <thead>\\n                <tr>\\n                    <th>ISBN</th>\\n                    <th>Title</th>\\n                    <th>Author</th>\\n                    <th>Language</th>\\n                    <th>Pages</th>\\n                    <th>Topic</th>\\n                    <th>Price</th>\\n                    <th></th>\\n                </tr>\\n            </thead>\\n            <tr class=\"book\">\\n                <td>978-1234567890</td>\\n                <td>Whiskers of Wisdom: Tales from Feline Philosophers</td>\\n                <td>Penelope Wainwright</td>\\n                <td>English</td>\\n                <td>256</td>\\n                <td>Cats</td>\\n                <td>$19.99</td>\\n                <td><button>Buy now</button></td>\\n            </tr>\\n            <tr class=\"book\">\\n                <td>978-2345678901</td>\\n                <td>Purrfectly Pawesome: A Cat\\'s Life</td>\\n                <td>Jasper Sterling</td>\\n                <td>English</td>\\n                <td>192</td>\\n                <td>Cats</td>\\n                <td>$15.99</td>\\n                <td><button>Buy now</button></td>\\n            </tr>\\n            <tr class=\"book\">\\n                <td>978-3456789012</td>\\n                <td>Cat Tales: Adventures in Whiskerland</td>\\n                <td>Penelope Wainwright</td>\\n                <td>English</td>\\n                <td>320</td>\\n                <td>Cats</td>\\n                <td>$21.99</td>\\n                <td><button>Buy now</button></td>\\n            </tr>\\n            <tr class=\"book\">\\n                <td>978-4567890123</td>\\n                <td>The Enigmatic Paws: Mysteries of Meowville</td>\\n                <td>Maximilian Thorne</td>\\n                <td>English</td>\\n                <td>288</td>\\n                <td>Cats</td>\\n                <td>$17.99</td>\\n                <td><button>Buy now</button></td>\\n            </tr>\\n            <tr class=\"book\">\\n                <td>978-5678901234</td>\\n                <td>Cats in Wonderland</td>\\n                <td>Isadora Harrington</td>\\n                <td>English</td>\\n                <td>224</td>\\n                <td>Cats</td>\\n                <td>$16.99</td>\\n                <td><button>Buy now</button></td>\\n            </tr>\\n            <tr class=\"book\">\\n                <td>978-6789012345</td>\\n                <td>Whisker Wisdom: Life Lessons from Feline Sages</td>\\n                <td>Penelope Wainwright</td>\\n                <td>English</td>\\n                <td>288</td>\\n                <td>Cats</td>\\n                <td>$20.99</td>\\n                <td><button>Buy now</button></td>\\n            </tr>\\n            <tr class=\"book\">\\n                <td>978-7890123456</td>\\n                <td>Catnip Chronicles: A Purrfect Journey</td>\\n                <td>Jasper Sterling</td>\\n                <td>English</td>\\n                <td>192</td>\\n                <td>Cats</td>\\n                <td>$14.99</td>\\n                <td><button>Buy now</button></td>\\n            </tr>\\n            <tr class=\"book\">\\n                <td>978-8901234567</td>\\n                <td>Cat-astrophe: Tales of Misadventures</td>\\n                <td>Celeste Nightshade</td>\\n                <td>English</td>\\n                <td>240</td>\\n                <td>Cats</td>\\n                <td>$18.99</td>\\n                <td><button>Buy now</button></td>\\n            </tr>\\n            <tr class=\"book\">\\n                <td>978-9012345678</td>\\n                <td>The Cat\\'s Whisker: A Feline Fantasy</td>\\n                <td>Penelope Wainwright</td>\\n                <td>English</td>\\n                <td>208</td>\\n                <td>Cats</td>\\n                <td>$16.99</td>\\n                <td><button>Buy now</button></td>\\n            </tr>\\n            <tr class=\"book\">\\n                <td>978-0123456789</td>\\n                <td>Fur and Friendship: Stories of Feline Companions</td>\\n                <td>Seraphina Montague</td>\\n                <td>English</td>\\n                <td>176</td>\\n                <td>Cats</td>\\n                <td>$12.99</td>\\n                <td><button>Buy now</button></td>\\n            </tr>\\n            <tr class=\"book\">\\n                <td>978-1234567890</td>\\n                <td>Tails of Loyalty: Canine Chronicles</td>\\n                <td>Benjamin Barkley</td>\\n                <td>English</td>\\n                <td>256</td>\\n                <td>Dogs</td>\\n                <td>$29.99</td>\\n                <td><button>Buy now</button></td>\\n            </tr>\\n            <tr class=\"book\">\\n                <td>978-2345678901</td>\\n                <td>Pawsitive Adventures: A Dog\\'s Journey</td>\\n                <td>Sophie Shepherd</td>\\n                <td>English</td>\\n                <td>192</td>\\n                <td>Dogs</td>\\n                <td>$25.99</td>\\n                <td><button>Buy now</button></td>\\n            </tr>\\n            <tr class=\"book\">\\n                <td>978-3456789012</td>\\n                <td>Barking Wisdom: Lessons from Wise Canines</td>\\n                <td>Oliver Obedience</td>\\n                <td>English</td>\\n                <td>320</td>\\n                <td>Dogs</td>\\n                <td>$21.99</td>\\n                <td><button>Buy now</button></td>\\n            </tr>\\n            <tr class=\"book\">\\n                <td>978-4567890123</td>\\n                <td>Dogged Determination: Stories of Resilient Pooches</td>\\n                <td>Ruby Ruffington</td>\\n                <td>English</td>\\n                <td>288</td>\\n                <td>Dogs</td>\\n                <td>$27.99</td>\\n                <td><button>Buy now</button></td>\\n            </tr>\\n            <tr class=\"book\">\\n                <td>978-5678901234</td>\\n                <td>The Bark Brigade: Canine Heroes Among Us</td>\\n                <td>Benjamin Barkley</td>\\n                <td>English</td>\\n                <td>224</td>\\n                <td>Dogs</td>\\n                <td>$26.99</td>\\n                <td><button>Buy now</button></td>\\n            </tr>\\n        </table>\\n      </div>\\n\\n\\n    \\n      <footer class=\"page-footer\">\\n        <div class=\"footer-content\">\\n            <p>&copy; 2023 Bob\\'s Bookstore</p>\\n            <ul class=\"social-icons\">\\n                <li><a href=\"#\"><img src=\"facebook.png\" alt=\"Facebook\"></a></li>\\n                <li><a href=\"#\"><img src=\"twitter.png\" alt=\"Twitter\"></a></li>\\n                <li><a href=\"#\"><img src=\"instagram.png\" alt=\"Instagram\"></a></li>\\n            </ul>\\n        </div>\\n    </footer>\\n</body>\\n</html>'"
      ]
     },
     "execution_count": 37,
     "metadata": {},
     "output_type": "execute_result"
    }
   ],
   "source": [
    "response"
   ]
  },
  {
   "cell_type": "code",
   "execution_count": 38,
   "id": "1367b1b4-5817-4e2b-85e7-c355bd81affe",
   "metadata": {},
   "outputs": [],
   "source": [
    "soup = BeautifulSoup(response, 'html.parser')"
   ]
  },
  {
   "cell_type": "code",
   "execution_count": 40,
   "id": "7df9f8c0-dad0-4b2b-a06c-62690f2d4072",
   "metadata": {},
   "outputs": [
    {
     "data": {
      "text/plain": [
       "'Whiskers of Wisdom: Tales from Feline Philosophers'"
      ]
     },
     "execution_count": 40,
     "metadata": {},
     "output_type": "execute_result"
    }
   ],
   "source": [
    "soup.find('table').find_all('tr', class_='book')[0].find_all('td')[1].text"
   ]
  },
  {
   "cell_type": "code",
   "execution_count": 41,
   "id": "cb7dd187-bf7f-43c1-9719-8df5e8823ad9",
   "metadata": {},
   "outputs": [
    {
     "name": "stdout",
     "output_type": "stream",
     "text": [
      "[<td>978-1234567890</td>, <td>Whiskers of Wisdom: Tales from Feline Philosophers</td>, <td>Penelope Wainwright</td>, <td>English</td>, <td>256</td>, <td>Cats</td>, <td>$19.99</td>, <td><button>Buy now</button></td>]\n",
      "[<td>978-2345678901</td>, <td>Purrfectly Pawesome: A Cat's Life</td>, <td>Jasper Sterling</td>, <td>English</td>, <td>192</td>, <td>Cats</td>, <td>$15.99</td>, <td><button>Buy now</button></td>]\n",
      "[<td>978-3456789012</td>, <td>Cat Tales: Adventures in Whiskerland</td>, <td>Penelope Wainwright</td>, <td>English</td>, <td>320</td>, <td>Cats</td>, <td>$21.99</td>, <td><button>Buy now</button></td>]\n",
      "[<td>978-4567890123</td>, <td>The Enigmatic Paws: Mysteries of Meowville</td>, <td>Maximilian Thorne</td>, <td>English</td>, <td>288</td>, <td>Cats</td>, <td>$17.99</td>, <td><button>Buy now</button></td>]\n",
      "[<td>978-5678901234</td>, <td>Cats in Wonderland</td>, <td>Isadora Harrington</td>, <td>English</td>, <td>224</td>, <td>Cats</td>, <td>$16.99</td>, <td><button>Buy now</button></td>]\n",
      "[<td>978-6789012345</td>, <td>Whisker Wisdom: Life Lessons from Feline Sages</td>, <td>Penelope Wainwright</td>, <td>English</td>, <td>288</td>, <td>Cats</td>, <td>$20.99</td>, <td><button>Buy now</button></td>]\n",
      "[<td>978-7890123456</td>, <td>Catnip Chronicles: A Purrfect Journey</td>, <td>Jasper Sterling</td>, <td>English</td>, <td>192</td>, <td>Cats</td>, <td>$14.99</td>, <td><button>Buy now</button></td>]\n",
      "[<td>978-8901234567</td>, <td>Cat-astrophe: Tales of Misadventures</td>, <td>Celeste Nightshade</td>, <td>English</td>, <td>240</td>, <td>Cats</td>, <td>$18.99</td>, <td><button>Buy now</button></td>]\n",
      "[<td>978-9012345678</td>, <td>The Cat's Whisker: A Feline Fantasy</td>, <td>Penelope Wainwright</td>, <td>English</td>, <td>208</td>, <td>Cats</td>, <td>$16.99</td>, <td><button>Buy now</button></td>]\n",
      "[<td>978-0123456789</td>, <td>Fur and Friendship: Stories of Feline Companions</td>, <td>Seraphina Montague</td>, <td>English</td>, <td>176</td>, <td>Cats</td>, <td>$12.99</td>, <td><button>Buy now</button></td>]\n",
      "[<td>978-1234567890</td>, <td>Tails of Loyalty: Canine Chronicles</td>, <td>Benjamin Barkley</td>, <td>English</td>, <td>256</td>, <td>Dogs</td>, <td>$29.99</td>, <td><button>Buy now</button></td>]\n",
      "[<td>978-2345678901</td>, <td>Pawsitive Adventures: A Dog's Journey</td>, <td>Sophie Shepherd</td>, <td>English</td>, <td>192</td>, <td>Dogs</td>, <td>$25.99</td>, <td><button>Buy now</button></td>]\n",
      "[<td>978-3456789012</td>, <td>Barking Wisdom: Lessons from Wise Canines</td>, <td>Oliver Obedience</td>, <td>English</td>, <td>320</td>, <td>Dogs</td>, <td>$21.99</td>, <td><button>Buy now</button></td>]\n",
      "[<td>978-4567890123</td>, <td>Dogged Determination: Stories of Resilient Pooches</td>, <td>Ruby Ruffington</td>, <td>English</td>, <td>288</td>, <td>Dogs</td>, <td>$27.99</td>, <td><button>Buy now</button></td>]\n",
      "[<td>978-5678901234</td>, <td>The Bark Brigade: Canine Heroes Among Us</td>, <td>Benjamin Barkley</td>, <td>English</td>, <td>224</td>, <td>Dogs</td>, <td>$26.99</td>, <td><button>Buy now</button></td>]\n"
     ]
    }
   ],
   "source": [
    "for book in soup.find('table').find_all('tr', class_='book'):\n",
    "    print(book.find_all('td'))"
   ]
  },
  {
   "cell_type": "code",
   "execution_count": 57,
   "id": "d74ace13-23c0-473d-8371-79dda5ccd0d9",
   "metadata": {},
   "outputs": [
    {
     "data": {
      "text/plain": [
       "['Whiskers of Wisdom: Tales from Feline Philosophers',\n",
       " \"Purrfectly Pawesome: A Cat's Life\",\n",
       " 'Cat Tales: Adventures in Whiskerland',\n",
       " 'The Enigmatic Paws: Mysteries of Meowville',\n",
       " 'Cats in Wonderland',\n",
       " 'Whisker Wisdom: Life Lessons from Feline Sages',\n",
       " 'Catnip Chronicles: A Purrfect Journey',\n",
       " 'Cat-astrophe: Tales of Misadventures',\n",
       " \"The Cat's Whisker: A Feline Fantasy\",\n",
       " 'Fur and Friendship: Stories of Feline Companions',\n",
       " 'Tails of Loyalty: Canine Chronicles',\n",
       " \"Pawsitive Adventures: A Dog's Journey\",\n",
       " 'Barking Wisdom: Lessons from Wise Canines',\n",
       " 'Dogged Determination: Stories of Resilient Pooches',\n",
       " 'The Bark Brigade: Canine Heroes Among Us']"
      ]
     },
     "execution_count": 57,
     "metadata": {},
     "output_type": "execute_result"
    }
   ],
   "source": [
    "name = []\n",
    "\n",
    "for book in soup.find('table').find_all('tr', class_='book'):\n",
    "    name.append(book.find_all('td')[1].text)\n",
    "\n",
    "name"
   ]
  },
  {
   "cell_type": "code",
   "execution_count": 78,
   "id": "de255807-96de-456c-8441-c2cb6c8d45d5",
   "metadata": {},
   "outputs": [],
   "source": [
    "ISBN = []\n",
    "Title = []\n",
    "Author = []\n",
    "Language = []\n",
    "Pages = []\n",
    "Topic = []\n",
    "Price = []\n",
    "\n",
    "for book in soup.find('table').find_all('tr', class_='book'):\n",
    "    ISBN.append(book.find_all('td')[0].text)\n",
    "    Title.append(book.find_all('td')[1].text)\n",
    "    Author.append(book.find_all('td')[2].text)\n",
    "    Language.append(book.find_all('td')[3].text)\n",
    "    Pages.append(book.find_all('td')[4].text)\n",
    "    Topic.append(book.find_all('td')[5].text)\n",
    "    Price.append(book.find_all('td')[6].text)"
   ]
  },
  {
   "cell_type": "code",
   "execution_count": 79,
   "id": "e9a29e67-354d-4ca0-8a65-a3ea0e5eb11d",
   "metadata": {},
   "outputs": [
    {
     "data": {
      "text/plain": [
       "['$19.99',\n",
       " '$15.99',\n",
       " '$21.99',\n",
       " '$17.99',\n",
       " '$16.99',\n",
       " '$20.99',\n",
       " '$14.99',\n",
       " '$18.99',\n",
       " '$16.99',\n",
       " '$12.99',\n",
       " '$29.99',\n",
       " '$25.99',\n",
       " '$21.99',\n",
       " '$27.99',\n",
       " '$26.99']"
      ]
     },
     "execution_count": 79,
     "metadata": {},
     "output_type": "execute_result"
    }
   ],
   "source": [
    "Price"
   ]
  },
  {
   "cell_type": "code",
   "execution_count": 80,
   "id": "44b4545f-2c74-4fba-b562-a2fd263cf0e8",
   "metadata": {},
   "outputs": [
    {
     "data": {
      "text/html": [
       "<div>\n",
       "<style scoped>\n",
       "    .dataframe tbody tr th:only-of-type {\n",
       "        vertical-align: middle;\n",
       "    }\n",
       "\n",
       "    .dataframe tbody tr th {\n",
       "        vertical-align: top;\n",
       "    }\n",
       "\n",
       "    .dataframe thead th {\n",
       "        text-align: right;\n",
       "    }\n",
       "</style>\n",
       "<table border=\"1\" class=\"dataframe\">\n",
       "  <thead>\n",
       "    <tr style=\"text-align: right;\">\n",
       "      <th></th>\n",
       "      <th>ISBN</th>\n",
       "      <th>Title</th>\n",
       "      <th>Author</th>\n",
       "      <th>Language</th>\n",
       "      <th>Pages</th>\n",
       "      <th>Topic</th>\n",
       "      <th>Price</th>\n",
       "    </tr>\n",
       "  </thead>\n",
       "  <tbody>\n",
       "    <tr>\n",
       "      <th>0</th>\n",
       "      <td>978-1234567890</td>\n",
       "      <td>Whiskers of Wisdom: Tales from Feline Philosop...</td>\n",
       "      <td>Penelope Wainwright</td>\n",
       "      <td>English</td>\n",
       "      <td>256</td>\n",
       "      <td>Cats</td>\n",
       "      <td>$19.99</td>\n",
       "    </tr>\n",
       "    <tr>\n",
       "      <th>1</th>\n",
       "      <td>978-2345678901</td>\n",
       "      <td>Purrfectly Pawesome: A Cat's Life</td>\n",
       "      <td>Jasper Sterling</td>\n",
       "      <td>English</td>\n",
       "      <td>192</td>\n",
       "      <td>Cats</td>\n",
       "      <td>$15.99</td>\n",
       "    </tr>\n",
       "    <tr>\n",
       "      <th>2</th>\n",
       "      <td>978-3456789012</td>\n",
       "      <td>Cat Tales: Adventures in Whiskerland</td>\n",
       "      <td>Penelope Wainwright</td>\n",
       "      <td>English</td>\n",
       "      <td>320</td>\n",
       "      <td>Cats</td>\n",
       "      <td>$21.99</td>\n",
       "    </tr>\n",
       "    <tr>\n",
       "      <th>3</th>\n",
       "      <td>978-4567890123</td>\n",
       "      <td>The Enigmatic Paws: Mysteries of Meowville</td>\n",
       "      <td>Maximilian Thorne</td>\n",
       "      <td>English</td>\n",
       "      <td>288</td>\n",
       "      <td>Cats</td>\n",
       "      <td>$17.99</td>\n",
       "    </tr>\n",
       "    <tr>\n",
       "      <th>4</th>\n",
       "      <td>978-5678901234</td>\n",
       "      <td>Cats in Wonderland</td>\n",
       "      <td>Isadora Harrington</td>\n",
       "      <td>English</td>\n",
       "      <td>224</td>\n",
       "      <td>Cats</td>\n",
       "      <td>$16.99</td>\n",
       "    </tr>\n",
       "    <tr>\n",
       "      <th>5</th>\n",
       "      <td>978-6789012345</td>\n",
       "      <td>Whisker Wisdom: Life Lessons from Feline Sages</td>\n",
       "      <td>Penelope Wainwright</td>\n",
       "      <td>English</td>\n",
       "      <td>288</td>\n",
       "      <td>Cats</td>\n",
       "      <td>$20.99</td>\n",
       "    </tr>\n",
       "    <tr>\n",
       "      <th>6</th>\n",
       "      <td>978-7890123456</td>\n",
       "      <td>Catnip Chronicles: A Purrfect Journey</td>\n",
       "      <td>Jasper Sterling</td>\n",
       "      <td>English</td>\n",
       "      <td>192</td>\n",
       "      <td>Cats</td>\n",
       "      <td>$14.99</td>\n",
       "    </tr>\n",
       "    <tr>\n",
       "      <th>7</th>\n",
       "      <td>978-8901234567</td>\n",
       "      <td>Cat-astrophe: Tales of Misadventures</td>\n",
       "      <td>Celeste Nightshade</td>\n",
       "      <td>English</td>\n",
       "      <td>240</td>\n",
       "      <td>Cats</td>\n",
       "      <td>$18.99</td>\n",
       "    </tr>\n",
       "    <tr>\n",
       "      <th>8</th>\n",
       "      <td>978-9012345678</td>\n",
       "      <td>The Cat's Whisker: A Feline Fantasy</td>\n",
       "      <td>Penelope Wainwright</td>\n",
       "      <td>English</td>\n",
       "      <td>208</td>\n",
       "      <td>Cats</td>\n",
       "      <td>$16.99</td>\n",
       "    </tr>\n",
       "    <tr>\n",
       "      <th>9</th>\n",
       "      <td>978-0123456789</td>\n",
       "      <td>Fur and Friendship: Stories of Feline Companions</td>\n",
       "      <td>Seraphina Montague</td>\n",
       "      <td>English</td>\n",
       "      <td>176</td>\n",
       "      <td>Cats</td>\n",
       "      <td>$12.99</td>\n",
       "    </tr>\n",
       "    <tr>\n",
       "      <th>10</th>\n",
       "      <td>978-1234567890</td>\n",
       "      <td>Tails of Loyalty: Canine Chronicles</td>\n",
       "      <td>Benjamin Barkley</td>\n",
       "      <td>English</td>\n",
       "      <td>256</td>\n",
       "      <td>Dogs</td>\n",
       "      <td>$29.99</td>\n",
       "    </tr>\n",
       "    <tr>\n",
       "      <th>11</th>\n",
       "      <td>978-2345678901</td>\n",
       "      <td>Pawsitive Adventures: A Dog's Journey</td>\n",
       "      <td>Sophie Shepherd</td>\n",
       "      <td>English</td>\n",
       "      <td>192</td>\n",
       "      <td>Dogs</td>\n",
       "      <td>$25.99</td>\n",
       "    </tr>\n",
       "    <tr>\n",
       "      <th>12</th>\n",
       "      <td>978-3456789012</td>\n",
       "      <td>Barking Wisdom: Lessons from Wise Canines</td>\n",
       "      <td>Oliver Obedience</td>\n",
       "      <td>English</td>\n",
       "      <td>320</td>\n",
       "      <td>Dogs</td>\n",
       "      <td>$21.99</td>\n",
       "    </tr>\n",
       "    <tr>\n",
       "      <th>13</th>\n",
       "      <td>978-4567890123</td>\n",
       "      <td>Dogged Determination: Stories of Resilient Poo...</td>\n",
       "      <td>Ruby Ruffington</td>\n",
       "      <td>English</td>\n",
       "      <td>288</td>\n",
       "      <td>Dogs</td>\n",
       "      <td>$27.99</td>\n",
       "    </tr>\n",
       "    <tr>\n",
       "      <th>14</th>\n",
       "      <td>978-5678901234</td>\n",
       "      <td>The Bark Brigade: Canine Heroes Among Us</td>\n",
       "      <td>Benjamin Barkley</td>\n",
       "      <td>English</td>\n",
       "      <td>224</td>\n",
       "      <td>Dogs</td>\n",
       "      <td>$26.99</td>\n",
       "    </tr>\n",
       "  </tbody>\n",
       "</table>\n",
       "</div>"
      ],
      "text/plain": [
       "              ISBN                                              Title  \\\n",
       "0   978-1234567890  Whiskers of Wisdom: Tales from Feline Philosop...   \n",
       "1   978-2345678901                  Purrfectly Pawesome: A Cat's Life   \n",
       "2   978-3456789012               Cat Tales: Adventures in Whiskerland   \n",
       "3   978-4567890123         The Enigmatic Paws: Mysteries of Meowville   \n",
       "4   978-5678901234                                 Cats in Wonderland   \n",
       "5   978-6789012345     Whisker Wisdom: Life Lessons from Feline Sages   \n",
       "6   978-7890123456              Catnip Chronicles: A Purrfect Journey   \n",
       "7   978-8901234567               Cat-astrophe: Tales of Misadventures   \n",
       "8   978-9012345678                The Cat's Whisker: A Feline Fantasy   \n",
       "9   978-0123456789   Fur and Friendship: Stories of Feline Companions   \n",
       "10  978-1234567890                Tails of Loyalty: Canine Chronicles   \n",
       "11  978-2345678901              Pawsitive Adventures: A Dog's Journey   \n",
       "12  978-3456789012          Barking Wisdom: Lessons from Wise Canines   \n",
       "13  978-4567890123  Dogged Determination: Stories of Resilient Poo...   \n",
       "14  978-5678901234           The Bark Brigade: Canine Heroes Among Us   \n",
       "\n",
       "                 Author Language Pages Topic   Price  \n",
       "0   Penelope Wainwright  English   256  Cats  $19.99  \n",
       "1       Jasper Sterling  English   192  Cats  $15.99  \n",
       "2   Penelope Wainwright  English   320  Cats  $21.99  \n",
       "3     Maximilian Thorne  English   288  Cats  $17.99  \n",
       "4    Isadora Harrington  English   224  Cats  $16.99  \n",
       "5   Penelope Wainwright  English   288  Cats  $20.99  \n",
       "6       Jasper Sterling  English   192  Cats  $14.99  \n",
       "7    Celeste Nightshade  English   240  Cats  $18.99  \n",
       "8   Penelope Wainwright  English   208  Cats  $16.99  \n",
       "9    Seraphina Montague  English   176  Cats  $12.99  \n",
       "10     Benjamin Barkley  English   256  Dogs  $29.99  \n",
       "11      Sophie Shepherd  English   192  Dogs  $25.99  \n",
       "12     Oliver Obedience  English   320  Dogs  $21.99  \n",
       "13      Ruby Ruffington  English   288  Dogs  $27.99  \n",
       "14     Benjamin Barkley  English   224  Dogs  $26.99  "
      ]
     },
     "execution_count": 80,
     "metadata": {},
     "output_type": "execute_result"
    }
   ],
   "source": [
    "df = pd.DataFrame({\n",
    "    'ISBN': ISBN, \n",
    "    'Title': Title,\n",
    "    'Author': Author,\n",
    "    'Language': Language,\n",
    "    'Pages': Pages,\n",
    "    'Topic': Topic,\n",
    "    'Price': Price\n",
    "})\n",
    "df"
   ]
  },
  {
   "cell_type": "code",
   "execution_count": 81,
   "id": "7dcb62b2-5699-49ee-b2be-3bd47766fbdc",
   "metadata": {},
   "outputs": [
    {
     "name": "stdout",
     "output_type": "stream",
     "text": [
      "<class 'pandas.core.frame.DataFrame'>\n",
      "RangeIndex: 15 entries, 0 to 14\n",
      "Data columns (total 7 columns):\n",
      " #   Column    Non-Null Count  Dtype \n",
      "---  ------    --------------  ----- \n",
      " 0   ISBN      15 non-null     object\n",
      " 1   Title     15 non-null     object\n",
      " 2   Author    15 non-null     object\n",
      " 3   Language  15 non-null     object\n",
      " 4   Pages     15 non-null     object\n",
      " 5   Topic     15 non-null     object\n",
      " 6   Price     15 non-null     object\n",
      "dtypes: object(7)\n",
      "memory usage: 972.0+ bytes\n"
     ]
    }
   ],
   "source": [
    "df.info()"
   ]
  },
  {
   "cell_type": "code",
   "execution_count": 82,
   "id": "a6b06ccf-f5d5-4255-bded-10a320ab2025",
   "metadata": {},
   "outputs": [],
   "source": [
    "df['Pages'] = df['Pages'].astype(int)"
   ]
  },
  {
   "cell_type": "code",
   "execution_count": 83,
   "id": "bfb26cbb-fa53-4e1f-a7e8-c1c978b98d93",
   "metadata": {},
   "outputs": [
    {
     "name": "stdout",
     "output_type": "stream",
     "text": [
      "<class 'pandas.core.frame.DataFrame'>\n",
      "RangeIndex: 15 entries, 0 to 14\n",
      "Data columns (total 7 columns):\n",
      " #   Column    Non-Null Count  Dtype \n",
      "---  ------    --------------  ----- \n",
      " 0   ISBN      15 non-null     object\n",
      " 1   Title     15 non-null     object\n",
      " 2   Author    15 non-null     object\n",
      " 3   Language  15 non-null     object\n",
      " 4   Pages     15 non-null     int64 \n",
      " 5   Topic     15 non-null     object\n",
      " 6   Price     15 non-null     object\n",
      "dtypes: int64(1), object(6)\n",
      "memory usage: 972.0+ bytes\n"
     ]
    }
   ],
   "source": [
    "df.info()"
   ]
  },
  {
   "cell_type": "code",
   "execution_count": 72,
   "id": "16d58685-d542-4c21-8b9f-749623f9e082",
   "metadata": {},
   "outputs": [
    {
     "data": {
      "text/plain": [
       "Author\n",
       "Penelope Wainwright    4\n",
       "Jasper Sterling        2\n",
       "Benjamin Barkley       2\n",
       "Maximilian Thorne      1\n",
       "Celeste Nightshade     1\n",
       "Isadora Harrington     1\n",
       "Seraphina Montague     1\n",
       "Sophie Shepherd        1\n",
       "Oliver Obedience       1\n",
       "Ruby Ruffington        1\n",
       "Name: count, dtype: int64"
      ]
     },
     "execution_count": 72,
     "metadata": {},
     "output_type": "execute_result"
    }
   ],
   "source": [
    "df['Author'].value_counts()"
   ]
  },
  {
   "cell_type": "code",
   "execution_count": 73,
   "id": "3cd6dca9-87ae-4acb-bd48-d68937ec6094",
   "metadata": {},
   "outputs": [
    {
     "data": {
      "text/plain": [
       "Topic\n",
       "Cats    10\n",
       "Dogs     5\n",
       "Name: count, dtype: int64"
      ]
     },
     "execution_count": 73,
     "metadata": {},
     "output_type": "execute_result"
    }
   ],
   "source": [
    "df['Topic'].value_counts()"
   ]
  },
  {
   "cell_type": "code",
   "execution_count": 92,
   "id": "b9e6b5bf-d810-4927-8fa2-ea833b951e85",
   "metadata": {},
   "outputs": [],
   "source": [
    "df['Price'] = df['Price'].str.replace('$', '').astype(float)"
   ]
  },
  {
   "cell_type": "code",
   "execution_count": 93,
   "id": "189e56c4-f320-4cc0-95be-b46c613edcad",
   "metadata": {},
   "outputs": [
    {
     "name": "stdout",
     "output_type": "stream",
     "text": [
      "<class 'pandas.core.frame.DataFrame'>\n",
      "RangeIndex: 15 entries, 0 to 14\n",
      "Data columns (total 7 columns):\n",
      " #   Column    Non-Null Count  Dtype  \n",
      "---  ------    --------------  -----  \n",
      " 0   ISBN      15 non-null     object \n",
      " 1   Title     15 non-null     object \n",
      " 2   Author    15 non-null     object \n",
      " 3   Language  15 non-null     object \n",
      " 4   Pages     15 non-null     int64  \n",
      " 5   Topic     15 non-null     object \n",
      " 6   Price     15 non-null     float64\n",
      "dtypes: float64(1), int64(1), object(5)\n",
      "memory usage: 972.0+ bytes\n"
     ]
    }
   ],
   "source": [
    "df.info()"
   ]
  },
  {
   "cell_type": "code",
   "execution_count": 94,
   "id": "db99de12-4044-4d5d-ba99-a1674971deff",
   "metadata": {},
   "outputs": [
    {
     "data": {
      "text/html": [
       "<div>\n",
       "<style scoped>\n",
       "    .dataframe tbody tr th:only-of-type {\n",
       "        vertical-align: middle;\n",
       "    }\n",
       "\n",
       "    .dataframe tbody tr th {\n",
       "        vertical-align: top;\n",
       "    }\n",
       "\n",
       "    .dataframe thead th {\n",
       "        text-align: right;\n",
       "    }\n",
       "</style>\n",
       "<table border=\"1\" class=\"dataframe\">\n",
       "  <thead>\n",
       "    <tr style=\"text-align: right;\">\n",
       "      <th></th>\n",
       "      <th>ISBN</th>\n",
       "      <th>Title</th>\n",
       "      <th>Author</th>\n",
       "      <th>Language</th>\n",
       "      <th>Pages</th>\n",
       "      <th>Topic</th>\n",
       "      <th>Price</th>\n",
       "    </tr>\n",
       "  </thead>\n",
       "  <tbody>\n",
       "    <tr>\n",
       "      <th>0</th>\n",
       "      <td>978-1234567890</td>\n",
       "      <td>Whiskers of Wisdom: Tales from Feline Philosop...</td>\n",
       "      <td>Penelope Wainwright</td>\n",
       "      <td>English</td>\n",
       "      <td>256</td>\n",
       "      <td>Cats</td>\n",
       "      <td>19.99</td>\n",
       "    </tr>\n",
       "    <tr>\n",
       "      <th>1</th>\n",
       "      <td>978-2345678901</td>\n",
       "      <td>Purrfectly Pawesome: A Cat's Life</td>\n",
       "      <td>Jasper Sterling</td>\n",
       "      <td>English</td>\n",
       "      <td>192</td>\n",
       "      <td>Cats</td>\n",
       "      <td>15.99</td>\n",
       "    </tr>\n",
       "    <tr>\n",
       "      <th>2</th>\n",
       "      <td>978-3456789012</td>\n",
       "      <td>Cat Tales: Adventures in Whiskerland</td>\n",
       "      <td>Penelope Wainwright</td>\n",
       "      <td>English</td>\n",
       "      <td>320</td>\n",
       "      <td>Cats</td>\n",
       "      <td>21.99</td>\n",
       "    </tr>\n",
       "    <tr>\n",
       "      <th>3</th>\n",
       "      <td>978-4567890123</td>\n",
       "      <td>The Enigmatic Paws: Mysteries of Meowville</td>\n",
       "      <td>Maximilian Thorne</td>\n",
       "      <td>English</td>\n",
       "      <td>288</td>\n",
       "      <td>Cats</td>\n",
       "      <td>17.99</td>\n",
       "    </tr>\n",
       "    <tr>\n",
       "      <th>4</th>\n",
       "      <td>978-5678901234</td>\n",
       "      <td>Cats in Wonderland</td>\n",
       "      <td>Isadora Harrington</td>\n",
       "      <td>English</td>\n",
       "      <td>224</td>\n",
       "      <td>Cats</td>\n",
       "      <td>16.99</td>\n",
       "    </tr>\n",
       "    <tr>\n",
       "      <th>5</th>\n",
       "      <td>978-6789012345</td>\n",
       "      <td>Whisker Wisdom: Life Lessons from Feline Sages</td>\n",
       "      <td>Penelope Wainwright</td>\n",
       "      <td>English</td>\n",
       "      <td>288</td>\n",
       "      <td>Cats</td>\n",
       "      <td>20.99</td>\n",
       "    </tr>\n",
       "    <tr>\n",
       "      <th>6</th>\n",
       "      <td>978-7890123456</td>\n",
       "      <td>Catnip Chronicles: A Purrfect Journey</td>\n",
       "      <td>Jasper Sterling</td>\n",
       "      <td>English</td>\n",
       "      <td>192</td>\n",
       "      <td>Cats</td>\n",
       "      <td>14.99</td>\n",
       "    </tr>\n",
       "    <tr>\n",
       "      <th>7</th>\n",
       "      <td>978-8901234567</td>\n",
       "      <td>Cat-astrophe: Tales of Misadventures</td>\n",
       "      <td>Celeste Nightshade</td>\n",
       "      <td>English</td>\n",
       "      <td>240</td>\n",
       "      <td>Cats</td>\n",
       "      <td>18.99</td>\n",
       "    </tr>\n",
       "    <tr>\n",
       "      <th>8</th>\n",
       "      <td>978-9012345678</td>\n",
       "      <td>The Cat's Whisker: A Feline Fantasy</td>\n",
       "      <td>Penelope Wainwright</td>\n",
       "      <td>English</td>\n",
       "      <td>208</td>\n",
       "      <td>Cats</td>\n",
       "      <td>16.99</td>\n",
       "    </tr>\n",
       "    <tr>\n",
       "      <th>9</th>\n",
       "      <td>978-0123456789</td>\n",
       "      <td>Fur and Friendship: Stories of Feline Companions</td>\n",
       "      <td>Seraphina Montague</td>\n",
       "      <td>English</td>\n",
       "      <td>176</td>\n",
       "      <td>Cats</td>\n",
       "      <td>12.99</td>\n",
       "    </tr>\n",
       "    <tr>\n",
       "      <th>10</th>\n",
       "      <td>978-1234567890</td>\n",
       "      <td>Tails of Loyalty: Canine Chronicles</td>\n",
       "      <td>Benjamin Barkley</td>\n",
       "      <td>English</td>\n",
       "      <td>256</td>\n",
       "      <td>Dogs</td>\n",
       "      <td>29.99</td>\n",
       "    </tr>\n",
       "    <tr>\n",
       "      <th>11</th>\n",
       "      <td>978-2345678901</td>\n",
       "      <td>Pawsitive Adventures: A Dog's Journey</td>\n",
       "      <td>Sophie Shepherd</td>\n",
       "      <td>English</td>\n",
       "      <td>192</td>\n",
       "      <td>Dogs</td>\n",
       "      <td>25.99</td>\n",
       "    </tr>\n",
       "    <tr>\n",
       "      <th>12</th>\n",
       "      <td>978-3456789012</td>\n",
       "      <td>Barking Wisdom: Lessons from Wise Canines</td>\n",
       "      <td>Oliver Obedience</td>\n",
       "      <td>English</td>\n",
       "      <td>320</td>\n",
       "      <td>Dogs</td>\n",
       "      <td>21.99</td>\n",
       "    </tr>\n",
       "    <tr>\n",
       "      <th>13</th>\n",
       "      <td>978-4567890123</td>\n",
       "      <td>Dogged Determination: Stories of Resilient Poo...</td>\n",
       "      <td>Ruby Ruffington</td>\n",
       "      <td>English</td>\n",
       "      <td>288</td>\n",
       "      <td>Dogs</td>\n",
       "      <td>27.99</td>\n",
       "    </tr>\n",
       "    <tr>\n",
       "      <th>14</th>\n",
       "      <td>978-5678901234</td>\n",
       "      <td>The Bark Brigade: Canine Heroes Among Us</td>\n",
       "      <td>Benjamin Barkley</td>\n",
       "      <td>English</td>\n",
       "      <td>224</td>\n",
       "      <td>Dogs</td>\n",
       "      <td>26.99</td>\n",
       "    </tr>\n",
       "  </tbody>\n",
       "</table>\n",
       "</div>"
      ],
      "text/plain": [
       "              ISBN                                              Title  \\\n",
       "0   978-1234567890  Whiskers of Wisdom: Tales from Feline Philosop...   \n",
       "1   978-2345678901                  Purrfectly Pawesome: A Cat's Life   \n",
       "2   978-3456789012               Cat Tales: Adventures in Whiskerland   \n",
       "3   978-4567890123         The Enigmatic Paws: Mysteries of Meowville   \n",
       "4   978-5678901234                                 Cats in Wonderland   \n",
       "5   978-6789012345     Whisker Wisdom: Life Lessons from Feline Sages   \n",
       "6   978-7890123456              Catnip Chronicles: A Purrfect Journey   \n",
       "7   978-8901234567               Cat-astrophe: Tales of Misadventures   \n",
       "8   978-9012345678                The Cat's Whisker: A Feline Fantasy   \n",
       "9   978-0123456789   Fur and Friendship: Stories of Feline Companions   \n",
       "10  978-1234567890                Tails of Loyalty: Canine Chronicles   \n",
       "11  978-2345678901              Pawsitive Adventures: A Dog's Journey   \n",
       "12  978-3456789012          Barking Wisdom: Lessons from Wise Canines   \n",
       "13  978-4567890123  Dogged Determination: Stories of Resilient Poo...   \n",
       "14  978-5678901234           The Bark Brigade: Canine Heroes Among Us   \n",
       "\n",
       "                 Author Language  Pages Topic  Price  \n",
       "0   Penelope Wainwright  English    256  Cats  19.99  \n",
       "1       Jasper Sterling  English    192  Cats  15.99  \n",
       "2   Penelope Wainwright  English    320  Cats  21.99  \n",
       "3     Maximilian Thorne  English    288  Cats  17.99  \n",
       "4    Isadora Harrington  English    224  Cats  16.99  \n",
       "5   Penelope Wainwright  English    288  Cats  20.99  \n",
       "6       Jasper Sterling  English    192  Cats  14.99  \n",
       "7    Celeste Nightshade  English    240  Cats  18.99  \n",
       "8   Penelope Wainwright  English    208  Cats  16.99  \n",
       "9    Seraphina Montague  English    176  Cats  12.99  \n",
       "10     Benjamin Barkley  English    256  Dogs  29.99  \n",
       "11      Sophie Shepherd  English    192  Dogs  25.99  \n",
       "12     Oliver Obedience  English    320  Dogs  21.99  \n",
       "13      Ruby Ruffington  English    288  Dogs  27.99  \n",
       "14     Benjamin Barkley  English    224  Dogs  26.99  "
      ]
     },
     "execution_count": 94,
     "metadata": {},
     "output_type": "execute_result"
    }
   ],
   "source": [
    "df"
   ]
  },
  {
   "cell_type": "code",
   "execution_count": 95,
   "id": "b9ce6b39-3c04-4040-a8f7-96f7f52349c2",
   "metadata": {},
   "outputs": [
    {
     "data": {
      "text/html": [
       "<div>\n",
       "<style scoped>\n",
       "    .dataframe tbody tr th:only-of-type {\n",
       "        vertical-align: middle;\n",
       "    }\n",
       "\n",
       "    .dataframe tbody tr th {\n",
       "        vertical-align: top;\n",
       "    }\n",
       "\n",
       "    .dataframe thead th {\n",
       "        text-align: right;\n",
       "    }\n",
       "</style>\n",
       "<table border=\"1\" class=\"dataframe\">\n",
       "  <thead>\n",
       "    <tr style=\"text-align: right;\">\n",
       "      <th></th>\n",
       "      <th>Topic</th>\n",
       "      <th>Price</th>\n",
       "    </tr>\n",
       "  </thead>\n",
       "  <tbody>\n",
       "    <tr>\n",
       "      <th>0</th>\n",
       "      <td>Cats</td>\n",
       "      <td>17.79</td>\n",
       "    </tr>\n",
       "    <tr>\n",
       "      <th>1</th>\n",
       "      <td>Dogs</td>\n",
       "      <td>26.59</td>\n",
       "    </tr>\n",
       "  </tbody>\n",
       "</table>\n",
       "</div>"
      ],
      "text/plain": [
       "  Topic  Price\n",
       "0  Cats  17.79\n",
       "1  Dogs  26.59"
      ]
     },
     "execution_count": 95,
     "metadata": {},
     "output_type": "execute_result"
    }
   ],
   "source": [
    "df.groupby('Topic')['Price'].mean().reset_index()"
   ]
  },
  {
   "cell_type": "code",
   "execution_count": 96,
   "id": "04aebdf6-966d-436f-bbc9-c46b637028a0",
   "metadata": {},
   "outputs": [
    {
     "data": {
      "text/html": [
       "<div>\n",
       "<style scoped>\n",
       "    .dataframe tbody tr th:only-of-type {\n",
       "        vertical-align: middle;\n",
       "    }\n",
       "\n",
       "    .dataframe tbody tr th {\n",
       "        vertical-align: top;\n",
       "    }\n",
       "\n",
       "    .dataframe thead th {\n",
       "        text-align: right;\n",
       "    }\n",
       "</style>\n",
       "<table border=\"1\" class=\"dataframe\">\n",
       "  <thead>\n",
       "    <tr style=\"text-align: right;\">\n",
       "      <th></th>\n",
       "      <th>Topic</th>\n",
       "      <th>Pages</th>\n",
       "    </tr>\n",
       "  </thead>\n",
       "  <tbody>\n",
       "    <tr>\n",
       "      <th>0</th>\n",
       "      <td>Cats</td>\n",
       "      <td>238.4</td>\n",
       "    </tr>\n",
       "    <tr>\n",
       "      <th>1</th>\n",
       "      <td>Dogs</td>\n",
       "      <td>256.0</td>\n",
       "    </tr>\n",
       "  </tbody>\n",
       "</table>\n",
       "</div>"
      ],
      "text/plain": [
       "  Topic  Pages\n",
       "0  Cats  238.4\n",
       "1  Dogs  256.0"
      ]
     },
     "execution_count": 96,
     "metadata": {},
     "output_type": "execute_result"
    }
   ],
   "source": [
    "df.groupby('Topic')['Pages'].mean().reset_index()"
   ]
  }
 ],
 "metadata": {
  "kernelspec": {
   "display_name": "Python 3 (ipykernel)",
   "language": "python",
   "name": "python3"
  },
  "language_info": {
   "codemirror_mode": {
    "name": "ipython",
    "version": 3
   },
   "file_extension": ".py",
   "mimetype": "text/x-python",
   "name": "python",
   "nbconvert_exporter": "python",
   "pygments_lexer": "ipython3",
   "version": "3.13.1"
  }
 },
 "nbformat": 4,
 "nbformat_minor": 5
}
