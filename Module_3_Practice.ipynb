{
 "cells": [
  {
   "cell_type": "raw",
   "id": "6a321f6f-1846-443c-9459-9f485500b368",
   "metadata": {},
   "source": [
    "import pandas as pd\n",
    "import requests\n",
    "from bs4 import BeautifulSoup"
   ]
  },
  {
   "cell_type": "code",
   "execution_count": 7,
   "id": "153e185a-eec0-4134-88ee-8e934ebf6beb",
   "metadata": {},
   "outputs": [],
   "source": [
    "response = requests.get('https://btech-data-analytics.github.io/bridgerland-technical-college/employees_3.html').text"
   ]
  },
  {
   "cell_type": "code",
   "execution_count": 8,
   "id": "5206b75b-8649-4068-98da-52aacc14835c",
   "metadata": {},
   "outputs": [
    {
     "data": {
      "text/plain": [
       "'<!DOCTYPE html>\\n<html>\\n<head>\\n    <title>Employees Table</title>\\n    <style>\\n        table {\\n            border-collapse: collapse;\\n            width: 50%;\\n            margin: 20px auto;\\n            font-family: \\'Gill Sans\\', \\'Gill Sans MT\\', Calibri, \\'Trebuchet MS\\', sans-serif;\\n        }\\n        th, td {\\n            border: 1px solid #ddd;\\n            padding: 8px;\\n            text-align: left;\\n        }\\n        tr:nth-child(odd) {\\n            background-color: #ddd;\\n        }\\n        tr:nth-child(odd):hover {\\n            background-color: #ccc;\\n        }\\n        tr:nth-child(even):hover {\\n            background-color: #eee;\\n        }\\n        th {\\n            cursor: pointer;\\n            background-color: #222;\\n            color: #eee\\n        }\\n        th:hover {\\n            background-color: #333;\\n        }\\n        h1{\\n            text-align: center;\\n            font-family: \\'Franklin Gothic Medium\\', \\'Arial Narrow\\', Arial, sans-serif;\\n            font-size: 80px;\\n            font-kerning: normal;\\n            color: #7d231f;\\n            \\n        }\\n        h2{\\n            text-align: center;\\n            font-family: \\'Franklin Gothic Medium\\', \\'Arial Narrow\\', Arial, sans-serif;\\n            font-size: 60px;\\n            font-kerning: normal;\\n            color: #4e0c09;\\n            \\n        }\\n        p {\\n            font-family: \\'Courier New\\', Courier, monospace;\\n            font-size: large;\\n        }\\n    </style>\\n</head>\\n<body>\\n    <p>This page was created using HTML, CSS, and JavaScript. The HTML code provides the structure of the page, the CSS determines how each element should be formatted, and JavaScript determines how the user can interact with the web page. In this case, JavaScript allows users to click the column names of the table below to sort the data.</p>\\n    <h1>Employees</h1>\\n    <table id=\"data-table\">\\n        <thead>\\n            <tr>\\n                <th onclick=\"sortTable(0)\">ID</th>\\n                <th onclick=\"sortTable(1)\">Name</th>\\n                <th onclick=\"sortTable(2)\">Age</th>\\n            </tr>\\n        </thead>\\n        <tbody>\\n            <tr class=\"employee\">\\n                <td>101</td>\\n                <td>John Doe</td>\\n                <td>28</td>\\n            </tr>\\n            <tr class=\"employee\">\\n                <td>102</td>\\n                <td>Jane Smith</td>\\n                <td>32</td>\\n            </tr>\\n            <tr class=\"employee\">\\n                <td>103</td>\\n                <td>Robert Johnson</td>\\n                <td>24</td>\\n            </tr>\\n            <tr class=\"employee\">\\n                <td>104</td>\\n                <td>Mary Johnson</td>\\n                <td>29</td>\\n            </tr>\\n            <tr class=\"employee\">\\n                <td>105</td>\\n                <td>Michael Brown</td>\\n                <td>35</td>\\n            </tr>\\n            <tr class=\"employee\">\\n                <td>106</td>\\n                <td>Susan Davis</td>\\n                <td>27</td>\\n            </tr>\\n            <tr class=\"employee\">\\n                <td>107</td>\\n                <td>David Wilson</td>\\n                <td>31</td>\\n            </tr>\\n            <tr class=\"employee\">\\n                <td>108</td>\\n                <td>Linda Miller</td>\\n                <td>33</td>\\n            </tr>\\n        </tbody>\\n    </table>\\n<h2>Why it\\'s important</h2>\\n<p>As you might be able to see, the actual data of this web page is stored in the HTML code. Both CSS and JavaScript have nothing to do with the actual data itself, but mostly just make the page look and work better. Thus, for web scraping the data from this page, only a knowledge of HTML is required.</p>\\n<p>However, more modern websites don\\'t always deliver the data in nice HTML tables. CSS is often used as a locator to locate the data inside of a particular table. Furthermore, more and more websites nowadays deliver empty HTML pages that are later populated with JavaScript processes to stop others from web scraping their sites. These issues are important to know about when performing web scraping.</p>\\n    <script>\\n        function sortTable(column) {\\n            var table, rows, switching, i, x, y, shouldSwitch;\\n            table = document.getElementById(\"data-table\");\\n            switching = true;\\n\\n            while (switching) {\\n                switching = false;\\n                rows = table.rows;\\n\\n                for (i = 1; i < (rows.length - 1); i++) {\\n                    shouldSwitch = false;\\n                    x = rows[i].getElementsByTagName(\"td\")[column];\\n                    y = rows[i + 1].getElementsByTagName(\"td\")[column];\\n\\n                    if (x.innerHTML.toLowerCase() > y.innerHTML.toLowerCase()) {\\n                        shouldSwitch = true;\\n                        break;\\n                    }\\n                }\\n\\n                if (shouldSwitch) {\\n                    rows[i].parentNode.insertBefore(rows[i + 1], rows[i]);\\n                    switching = true;\\n                }\\n            }\\n        }\\n    </script>\\n</body>\\n</html>\\n'"
      ]
     },
     "execution_count": 8,
     "metadata": {},
     "output_type": "execute_result"
    }
   ],
   "source": [
    "response"
   ]
  },
  {
   "cell_type": "code",
   "execution_count": 9,
   "id": "1367b1b4-5817-4e2b-85e7-c355bd81affe",
   "metadata": {},
   "outputs": [],
   "source": [
    "soup = BeautifulSoup(response, 'html.parser')"
   ]
  },
  {
   "cell_type": "code",
   "execution_count": 17,
   "id": "7df9f8c0-dad0-4b2b-a06c-62690f2d4072",
   "metadata": {},
   "outputs": [
    {
     "data": {
      "text/plain": [
       "'John Doe'"
      ]
     },
     "execution_count": 17,
     "metadata": {},
     "output_type": "execute_result"
    }
   ],
   "source": [
    "soup.find('table').find_all('tr', class_='employee')[0].find_all('td')[1].text"
   ]
  },
  {
   "cell_type": "code",
   "execution_count": 19,
   "id": "cb7dd187-bf7f-43c1-9719-8df5e8823ad9",
   "metadata": {},
   "outputs": [
    {
     "name": "stdout",
     "output_type": "stream",
     "text": [
      "[<td>101</td>, <td>John Doe</td>, <td>28</td>]\n",
      "[<td>102</td>, <td>Jane Smith</td>, <td>32</td>]\n",
      "[<td>103</td>, <td>Robert Johnson</td>, <td>24</td>]\n",
      "[<td>104</td>, <td>Mary Johnson</td>, <td>29</td>]\n",
      "[<td>105</td>, <td>Michael Brown</td>, <td>35</td>]\n",
      "[<td>106</td>, <td>Susan Davis</td>, <td>27</td>]\n",
      "[<td>107</td>, <td>David Wilson</td>, <td>31</td>]\n",
      "[<td>108</td>, <td>Linda Miller</td>, <td>33</td>]\n"
     ]
    }
   ],
   "source": [
    "for employee in soup.find('table').find_all('tr', class_='employee'):\n",
    "    print(employee.find_all('td'))"
   ]
  },
  {
   "cell_type": "code",
   "execution_count": 20,
   "id": "52581903-a675-4c6e-b052-37b259ff8239",
   "metadata": {},
   "outputs": [
    {
     "name": "stdout",
     "output_type": "stream",
     "text": [
      "John Doe\n",
      "Jane Smith\n",
      "Robert Johnson\n",
      "Mary Johnson\n",
      "Michael Brown\n",
      "Susan Davis\n",
      "David Wilson\n",
      "Linda Miller\n"
     ]
    }
   ],
   "source": [
    "for employee in soup.find('table').find_all('tr', class_='employee'):\n",
    "    print(employee.find_all('td')[1].text)"
   ]
  },
  {
   "cell_type": "code",
   "execution_count": 21,
   "id": "faf0d96f-538a-47a8-b07e-8a335a657bfd",
   "metadata": {},
   "outputs": [],
   "source": [
    "name = []\n",
    "\n",
    "for employee in soup.find('table').find_all('tr', class_='employee'):\n",
    "    name.append(employee.find_all('td')[1].text)"
   ]
  },
  {
   "cell_type": "code",
   "execution_count": 22,
   "id": "e11275cb-a524-4d10-b9e6-c1e5299344f4",
   "metadata": {},
   "outputs": [
    {
     "data": {
      "text/plain": [
       "['John Doe',\n",
       " 'Jane Smith',\n",
       " 'Robert Johnson',\n",
       " 'Mary Johnson',\n",
       " 'Michael Brown',\n",
       " 'Susan Davis',\n",
       " 'David Wilson',\n",
       " 'Linda Miller']"
      ]
     },
     "execution_count": 22,
     "metadata": {},
     "output_type": "execute_result"
    }
   ],
   "source": [
    "name"
   ]
  },
  {
   "cell_type": "code",
   "execution_count": 23,
   "id": "de255807-96de-456c-8441-c2cb6c8d45d5",
   "metadata": {},
   "outputs": [],
   "source": [
    "id = []\n",
    "name = []\n",
    "age = []\n",
    "\n",
    "for employee in soup.find('table').find_all('tr', class_='employee'):\n",
    "    id.append(employee.find_all('td')[0].text)\n",
    "    name.append(employee.find_all('td')[1].text)\n",
    "    age.append(employee.find_all('td')[2].text)"
   ]
  },
  {
   "cell_type": "code",
   "execution_count": 24,
   "id": "e30248f0-d567-4ab7-8ac5-5fd3efbddbf4",
   "metadata": {},
   "outputs": [
    {
     "data": {
      "text/plain": [
       "['101', '102', '103', '104', '105', '106', '107', '108']"
      ]
     },
     "execution_count": 24,
     "metadata": {},
     "output_type": "execute_result"
    }
   ],
   "source": [
    "id"
   ]
  },
  {
   "cell_type": "code",
   "execution_count": 25,
   "id": "cad439b1-321c-42d0-ba79-3745a4f4e7f4",
   "metadata": {},
   "outputs": [
    {
     "data": {
      "text/plain": [
       "['John Doe',\n",
       " 'Jane Smith',\n",
       " 'Robert Johnson',\n",
       " 'Mary Johnson',\n",
       " 'Michael Brown',\n",
       " 'Susan Davis',\n",
       " 'David Wilson',\n",
       " 'Linda Miller']"
      ]
     },
     "execution_count": 25,
     "metadata": {},
     "output_type": "execute_result"
    }
   ],
   "source": [
    "name"
   ]
  },
  {
   "cell_type": "code",
   "execution_count": 26,
   "id": "c023e2ac-dee6-4324-a86b-3f093419d288",
   "metadata": {},
   "outputs": [
    {
     "data": {
      "text/plain": [
       "['28', '32', '24', '29', '35', '27', '31', '33']"
      ]
     },
     "execution_count": 26,
     "metadata": {},
     "output_type": "execute_result"
    }
   ],
   "source": [
    "age"
   ]
  },
  {
   "cell_type": "code",
   "execution_count": 28,
   "id": "44b4545f-2c74-4fba-b562-a2fd263cf0e8",
   "metadata": {},
   "outputs": [
    {
     "data": {
      "text/html": [
       "<div>\n",
       "<style scoped>\n",
       "    .dataframe tbody tr th:only-of-type {\n",
       "        vertical-align: middle;\n",
       "    }\n",
       "\n",
       "    .dataframe tbody tr th {\n",
       "        vertical-align: top;\n",
       "    }\n",
       "\n",
       "    .dataframe thead th {\n",
       "        text-align: right;\n",
       "    }\n",
       "</style>\n",
       "<table border=\"1\" class=\"dataframe\">\n",
       "  <thead>\n",
       "    <tr style=\"text-align: right;\">\n",
       "      <th></th>\n",
       "      <th>id</th>\n",
       "      <th>name</th>\n",
       "      <th>age</th>\n",
       "    </tr>\n",
       "  </thead>\n",
       "  <tbody>\n",
       "    <tr>\n",
       "      <th>0</th>\n",
       "      <td>101</td>\n",
       "      <td>John Doe</td>\n",
       "      <td>28</td>\n",
       "    </tr>\n",
       "    <tr>\n",
       "      <th>1</th>\n",
       "      <td>102</td>\n",
       "      <td>Jane Smith</td>\n",
       "      <td>32</td>\n",
       "    </tr>\n",
       "    <tr>\n",
       "      <th>2</th>\n",
       "      <td>103</td>\n",
       "      <td>Robert Johnson</td>\n",
       "      <td>24</td>\n",
       "    </tr>\n",
       "    <tr>\n",
       "      <th>3</th>\n",
       "      <td>104</td>\n",
       "      <td>Mary Johnson</td>\n",
       "      <td>29</td>\n",
       "    </tr>\n",
       "    <tr>\n",
       "      <th>4</th>\n",
       "      <td>105</td>\n",
       "      <td>Michael Brown</td>\n",
       "      <td>35</td>\n",
       "    </tr>\n",
       "    <tr>\n",
       "      <th>5</th>\n",
       "      <td>106</td>\n",
       "      <td>Susan Davis</td>\n",
       "      <td>27</td>\n",
       "    </tr>\n",
       "    <tr>\n",
       "      <th>6</th>\n",
       "      <td>107</td>\n",
       "      <td>David Wilson</td>\n",
       "      <td>31</td>\n",
       "    </tr>\n",
       "    <tr>\n",
       "      <th>7</th>\n",
       "      <td>108</td>\n",
       "      <td>Linda Miller</td>\n",
       "      <td>33</td>\n",
       "    </tr>\n",
       "  </tbody>\n",
       "</table>\n",
       "</div>"
      ],
      "text/plain": [
       "    id            name age\n",
       "0  101        John Doe  28\n",
       "1  102      Jane Smith  32\n",
       "2  103  Robert Johnson  24\n",
       "3  104    Mary Johnson  29\n",
       "4  105   Michael Brown  35\n",
       "5  106     Susan Davis  27\n",
       "6  107    David Wilson  31\n",
       "7  108    Linda Miller  33"
      ]
     },
     "execution_count": 28,
     "metadata": {},
     "output_type": "execute_result"
    }
   ],
   "source": [
    "df = pd.DataFrame({\n",
    "    'id': id, \n",
    "    'name': name,\n",
    "    'age': age\n",
    "})\n",
    "df"
   ]
  },
  {
   "cell_type": "code",
   "execution_count": 29,
   "id": "7dcb62b2-5699-49ee-b2be-3bd47766fbdc",
   "metadata": {},
   "outputs": [
    {
     "name": "stdout",
     "output_type": "stream",
     "text": [
      "<class 'pandas.core.frame.DataFrame'>\n",
      "RangeIndex: 8 entries, 0 to 7\n",
      "Data columns (total 3 columns):\n",
      " #   Column  Non-Null Count  Dtype \n",
      "---  ------  --------------  ----- \n",
      " 0   id      8 non-null      object\n",
      " 1   name    8 non-null      object\n",
      " 2   age     8 non-null      object\n",
      "dtypes: object(3)\n",
      "memory usage: 324.0+ bytes\n"
     ]
    }
   ],
   "source": [
    "df.info()"
   ]
  },
  {
   "cell_type": "code",
   "execution_count": 31,
   "id": "a6b06ccf-f5d5-4255-bded-10a320ab2025",
   "metadata": {},
   "outputs": [],
   "source": [
    "df['age'] = df['age'].astype(int)"
   ]
  },
  {
   "cell_type": "code",
   "execution_count": 33,
   "id": "bfb26cbb-fa53-4e1f-a7e8-c1c978b98d93",
   "metadata": {},
   "outputs": [
    {
     "name": "stdout",
     "output_type": "stream",
     "text": [
      "<class 'pandas.core.frame.DataFrame'>\n",
      "RangeIndex: 8 entries, 0 to 7\n",
      "Data columns (total 3 columns):\n",
      " #   Column  Non-Null Count  Dtype \n",
      "---  ------  --------------  ----- \n",
      " 0   id      8 non-null      object\n",
      " 1   name    8 non-null      object\n",
      " 2   age     8 non-null      int64 \n",
      "dtypes: int64(1), object(2)\n",
      "memory usage: 324.0+ bytes\n"
     ]
    }
   ],
   "source": [
    "df.info()"
   ]
  },
  {
   "cell_type": "code",
   "execution_count": 35,
   "id": "46dd541d-ba6e-4410-b679-7f7edf1ac13a",
   "metadata": {},
   "outputs": [
    {
     "data": {
      "text/html": [
       "<div>\n",
       "<style scoped>\n",
       "    .dataframe tbody tr th:only-of-type {\n",
       "        vertical-align: middle;\n",
       "    }\n",
       "\n",
       "    .dataframe tbody tr th {\n",
       "        vertical-align: top;\n",
       "    }\n",
       "\n",
       "    .dataframe thead th {\n",
       "        text-align: right;\n",
       "    }\n",
       "</style>\n",
       "<table border=\"1\" class=\"dataframe\">\n",
       "  <thead>\n",
       "    <tr style=\"text-align: right;\">\n",
       "      <th></th>\n",
       "      <th>age</th>\n",
       "    </tr>\n",
       "  </thead>\n",
       "  <tbody>\n",
       "    <tr>\n",
       "      <th>count</th>\n",
       "      <td>8.000000</td>\n",
       "    </tr>\n",
       "    <tr>\n",
       "      <th>mean</th>\n",
       "      <td>29.875000</td>\n",
       "    </tr>\n",
       "    <tr>\n",
       "      <th>std</th>\n",
       "      <td>3.563205</td>\n",
       "    </tr>\n",
       "    <tr>\n",
       "      <th>min</th>\n",
       "      <td>24.000000</td>\n",
       "    </tr>\n",
       "    <tr>\n",
       "      <th>25%</th>\n",
       "      <td>27.750000</td>\n",
       "    </tr>\n",
       "    <tr>\n",
       "      <th>50%</th>\n",
       "      <td>30.000000</td>\n",
       "    </tr>\n",
       "    <tr>\n",
       "      <th>75%</th>\n",
       "      <td>32.250000</td>\n",
       "    </tr>\n",
       "    <tr>\n",
       "      <th>max</th>\n",
       "      <td>35.000000</td>\n",
       "    </tr>\n",
       "  </tbody>\n",
       "</table>\n",
       "</div>"
      ],
      "text/plain": [
       "             age\n",
       "count   8.000000\n",
       "mean   29.875000\n",
       "std     3.563205\n",
       "min    24.000000\n",
       "25%    27.750000\n",
       "50%    30.000000\n",
       "75%    32.250000\n",
       "max    35.000000"
      ]
     },
     "execution_count": 35,
     "metadata": {},
     "output_type": "execute_result"
    }
   ],
   "source": [
    "df.describe()"
   ]
  }
 ],
 "metadata": {
  "kernelspec": {
   "display_name": "Python 3 (ipykernel)",
   "language": "python",
   "name": "python3"
  },
  "language_info": {
   "codemirror_mode": {
    "name": "ipython",
    "version": 3
   },
   "file_extension": ".py",
   "mimetype": "text/x-python",
   "name": "python",
   "nbconvert_exporter": "python",
   "pygments_lexer": "ipython3",
   "version": "3.13.1"
  }
 },
 "nbformat": 4,
 "nbformat_minor": 5
}
